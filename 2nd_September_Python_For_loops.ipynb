{
 "cells": [
  {
   "cell_type": "markdown",
   "id": "ae79aa76-8bc4-4455-9a9a-e62e0be71896",
   "metadata": {},
   "source": [
    "                                ~~~~~BASIC LEVEL~~~~~"
   ]
  },
  {
   "cell_type": "markdown",
   "id": "54a11af0-533e-442d-9575-0f2b836e7b8f",
   "metadata": {},
   "source": [
    "1. Write a Python program to print the numbers from 1 to 10 using a `for` loop."
   ]
  },
  {
   "cell_type": "code",
   "execution_count": 6,
   "id": "7330d912-2660-4eb2-a79c-0abe01dcc086",
   "metadata": {},
   "outputs": [
    {
     "name": "stdout",
     "output_type": "stream",
     "text": [
      "1\n",
      "2\n",
      "3\n",
      "4\n",
      "5\n",
      "6\n",
      "7\n",
      "8\n",
      "9\n",
      "10\n"
     ]
    }
   ],
   "source": [
    "# To print number 1 to 10 using for loop, the python program used is as follows \n",
    "for i in range(1,11): #here 'i' is a temporary variable that is iterating over numbers from 1 to 10.\n",
    "    print(i)"
   ]
  },
  {
   "cell_type": "markdown",
   "id": "096ad1b9-a850-4637-be6e-ebe7036af2df",
   "metadata": {},
   "source": [
    "2. Create a program that calculates the sum of all numbers in a list using a `for` loop."
   ]
  },
  {
   "cell_type": "code",
   "execution_count": 2,
   "id": "2f4e2fa4-fe49-4d90-8303-5832ad7df8f9",
   "metadata": {},
   "outputs": [
    {
     "name": "stdout",
     "output_type": "stream",
     "text": [
      "Sum of elements: 50\n"
     ]
    }
   ],
   "source": [
    "# Example list\n",
    "list1 = [1,2,3,4,5,5,6,7,8,9]\n",
    "sum_list1 = 0\n",
    "# To calculate the sum of all elements in the list using 'for' loop-\n",
    "for i in list1:\n",
    "    sum_list1 = sum_list1+i\n",
    "    \n",
    "print (\"Sum of elements:\", sum_list1)"
   ]
  },
  {
   "cell_type": "markdown",
   "id": "99553329-4ea1-4c00-ad88-03c0cff532d1",
   "metadata": {},
   "source": [
    "3. Write a program to print the characters of a string in reverse order using a `for` loop."
   ]
  },
  {
   "cell_type": "code",
   "execution_count": 3,
   "id": "0e4ecd53-e905-40e0-bc50-de63e210858d",
   "metadata": {},
   "outputs": [
    {
     "name": "stdout",
     "output_type": "stream",
     "text": [
      "The original string is:  hello world\n",
      "The reverse string is dlrow olleh\n"
     ]
    }
   ],
   "source": [
    "def reverse_string(str):  \n",
    "    str1 = \"\"   # Declaring empty string to store the reversed string  \n",
    "    for i in str:  \n",
    "        str1 = i + str1  \n",
    "    return str1    # It will return the reverse string to the caller function  \n",
    "str= \"hello world\"\n",
    "print(\"The original string is: \",str)  \n",
    "print(\"The reverse string is\",reverse_string(str)) "
   ]
  },
  {
   "cell_type": "markdown",
   "id": "72eeb5f0-0650-4456-b297-e891ff3588ca",
   "metadata": {},
   "source": [
    "4. Develop a program that finds the factorial of a given number using a `for` loop."
   ]
  },
  {
   "cell_type": "code",
   "execution_count": 4,
   "id": "d1b653ce-6b4d-4031-bde0-29bfcdc64749",
   "metadata": {},
   "outputs": [
    {
     "name": "stdin",
     "output_type": "stream",
     "text": [
      "enter an integer: 6\n"
     ]
    },
    {
     "name": "stdout",
     "output_type": "stream",
     "text": [
      "Factorial of the given number is:  720\n"
     ]
    }
   ],
   "source": [
    "n = int(input(\"enter an integer:\"))\n",
    "# the factorial program takes input from the user as an integer and assigns it to the variable n.\n",
    "factorial = 1 #It then innitilizes a vriable 'factorial' to '1'\n",
    "if n>=1:\n",
    "    for i in range(1,n+1):\n",
    "        factorial = factorial * i\n",
    "#If n is greater than or equal to 1, \n",
    "#it enters a for loop that iterates from 1 to n (inclusive) \n",
    "#and multiplies factorial by each value of i in the loop.        \n",
    "print(\"Factorial of the given number is: \",factorial)"
   ]
  },
  {
   "cell_type": "markdown",
   "id": "1b8cfd1e-f09c-4a77-8959-bc5c0c2a0a30",
   "metadata": {},
   "source": [
    "5. Create a program to print the multiplication table of a given number using a `for` loop."
   ]
  },
  {
   "cell_type": "code",
   "execution_count": 5,
   "id": "e8d0b654-a444-4ca7-a949-c96b549ce5cb",
   "metadata": {},
   "outputs": [
    {
     "name": "stdin",
     "output_type": "stream",
     "text": [
      "Enter the number you want to generate a multiplication table for 19\n"
     ]
    },
    {
     "name": "stdout",
     "output_type": "stream",
     "text": [
      "19  *  1  =  19\n",
      "19  *  2  =  38\n",
      "19  *  3  =  57\n",
      "19  *  4  =  76\n",
      "19  *  5  =  95\n",
      "19  *  6  =  114\n",
      "19  *  7  =  133\n",
      "19  *  8  =  152\n",
      "19  *  9  =  171\n",
      "19  *  10  =  190\n"
     ]
    }
   ],
   "source": [
    "Num = int(input(\"Enter the number you want to generate a multiplication table for\"))\n",
    "Range = range(1,11)\n",
    "for x in Range:\n",
    "    result = Num * x\n",
    "    print(Num,\" * \",x,\" = \",result)"
   ]
  },
  {
   "cell_type": "markdown",
   "id": "45824102-a3d5-48f1-aaea-723b3037deca",
   "metadata": {},
   "source": [
    "6. Write a program that counts the number of even and odd numbers in a list using a `for` loop."
   ]
  },
  {
   "cell_type": "code",
   "execution_count": 17,
   "id": "12e471f8-6da0-48ae-af54-f2f8307a11ea",
   "metadata": {},
   "outputs": [
    {
     "name": "stdout",
     "output_type": "stream",
     "text": [
      "Even numbers in the list:  4\n",
      "Odd numbers in the list:  4\n"
     ]
    }
   ],
   "source": [
    "# Python program to count Even and Odd numbers in a List.\n",
    " \n",
    "# list of numbers\n",
    "list1 = [1,2,3,4,5,6,7,8]\n",
    " \n",
    "even_count, odd_count = 0, 0\n",
    " \n",
    "# iterating each number in list\n",
    "for num in list1:\n",
    " \n",
    "    # checking condition\n",
    "    if num % 2 == 0:\n",
    "        even_count +=1\n",
    " \n",
    "    else:\n",
    "        odd_count +=1\n",
    " \n",
    "print(\"Even numbers in the list: \", even_count)\n",
    "print(\"Odd numbers in the list: \", odd_count)"
   ]
  },
  {
   "cell_type": "markdown",
   "id": "6c3dfb74-39d4-47ef-92f4-0ef3242cb934",
   "metadata": {},
   "source": [
    "7. Develop a program that prints the squares of numbers from 1 to 5 using a `for` loop."
   ]
  },
  {
   "cell_type": "code",
   "execution_count": 19,
   "id": "8f5f833b-274e-4619-b060-bed80f980f91",
   "metadata": {},
   "outputs": [
    {
     "name": "stdout",
     "output_type": "stream",
     "text": [
      "the sq of 1 is 1\n",
      "the sq of 2 is 4\n",
      "the sq of 3 is 9\n",
      "the sq of 4 is 16\n",
      "the sq of 5 is 25\n"
     ]
    }
   ],
   "source": [
    "list1=[1,2,3,4,5]\n",
    "for i in list1:\n",
    "    result = i**2\n",
    "    print(\"the sq of\", i ,\"is\", result)"
   ]
  },
  {
   "cell_type": "markdown",
   "id": "502ec26c-e8c2-41c6-9fd6-ff093e7aefaa",
   "metadata": {},
   "source": [
    "8. Create a program to find the length of a string without using the `len()` function."
   ]
  },
  {
   "cell_type": "code",
   "execution_count": 5,
   "id": "b49df407-46da-4bff-8707-f5c0d6b0a6ac",
   "metadata": {},
   "outputs": [
    {
     "name": "stdout",
     "output_type": "stream",
     "text": [
      "The length of string is 18 .\n"
     ]
    }
   ],
   "source": [
    "string = \"I am an Ineuronian\"\n",
    "count = 0\n",
    "for i in string:\n",
    "    count += 1\n",
    "print(\"The length of string is\",count,\".\")"
   ]
  },
  {
   "cell_type": "markdown",
   "id": "21e65440-eaf1-4cfe-9460-ce7b8b7e813e",
   "metadata": {},
   "source": [
    "9. Write a program that calculates the average of a list of numbers using a `for` loop."
   ]
  },
  {
   "cell_type": "code",
   "execution_count": 3,
   "id": "5e5c5cfd-db27-4801-9a2c-04f0300584fc",
   "metadata": {},
   "outputs": [
    {
     "name": "stdout",
     "output_type": "stream",
     "text": [
      "sum of the given list of numbers is : 20\n",
      "Average of the given list of numbers is :  3.3333333333333335\n"
     ]
    }
   ],
   "source": [
    "list1 = [1,2,3,4,5,5]\n",
    "sum_list1 = 0\n",
    "length = len(list1)\n",
    "for i in list1:\n",
    "    sum_list1 += i\n",
    "    avg = sum_list1/length\n",
    "print(\"sum of the given list of numbers is :\",sum_list1)\n",
    "print(\"Average of the given list of numbers is : \",avg)"
   ]
  },
  {
   "cell_type": "markdown",
   "id": "be13c61d-6a01-4b1f-a4b5-c202cd381963",
   "metadata": {},
   "source": [
    "10. Develop a program that prints the first `n` Fibonacci numbers using a `for` loop."
   ]
  },
  {
   "cell_type": "code",
   "execution_count": 12,
   "id": "261b6544-8a5a-48c4-ac1d-9a76e90d9e1f",
   "metadata": {},
   "outputs": [
    {
     "name": "stdin",
     "output_type": "stream",
     "text": [
      "Enter the number of integers we want in our fibonacci series:  9\n"
     ]
    },
    {
     "name": "stdout",
     "output_type": "stream",
     "text": [
      "0 1 1 2 3 5 8 13 21 "
     ]
    }
   ],
   "source": [
    "n = int(input(\"Enter the number of integers we want in our fibonacci series: \"))\n",
    "f1,f2 = 0,1 \n",
    "if n == 1: \n",
    "    print(f1)\n",
    "elif n == 2:\n",
    "    print(f1,\" \",f2)\n",
    "# under the else block we need to run for loop for the iteration of remaining numbers of the fibonacci series\n",
    "else:\n",
    "    print(f1,f2,end = \" \")\n",
    "    for i in range (3,n+1):\n",
    "        f3 = f1 + f2\n",
    "        print(f3, end =\" \")\n",
    "        f1 = f2\n",
    "        f2 = f3"
   ]
  },
  {
   "cell_type": "markdown",
   "id": "209e750b-8c4d-40e8-a245-52922a0584ad",
   "metadata": {},
   "source": [
    "                             ~~~~~~INTERMEDIATE LEVEL~~~~~~"
   ]
  },
  {
   "cell_type": "markdown",
   "id": "563cd001-2fcf-45e5-86a5-26a9a22b0b64",
   "metadata": {},
   "source": [
    "11. Write a program to check if a given list contains any duplicates using a `for` loop."
   ]
  },
  {
   "cell_type": "code",
   "execution_count": 16,
   "id": "84a0da2f-1ef3-4ba0-b623-94925836d2a3",
   "metadata": {
    "tags": []
   },
   "outputs": [
    {
     "name": "stdout",
     "output_type": "stream",
     "text": [
      "[5, 3, 7, 55]\n"
     ]
    }
   ],
   "source": [
    "#method no. 1\n",
    "list1=[5,4,3,6,5,7,55,21,3,55,7]\n",
    "def repeat(x):\n",
    "    size=len(x)\n",
    "    repeated=[]\n",
    "    for i in range(size):\n",
    "        k=i+1\n",
    "        for j in range(k,size):\n",
    "            if x[i] == x[j] and x[i] not in repeated:\n",
    "                repeated.append(x[i])\n",
    "    return repeated\n",
    "print(repeat(list1))"
   ]
  },
  {
   "cell_type": "code",
   "execution_count": 19,
   "id": "c4b1330e-ca0c-46d6-8199-1b23cdeb524a",
   "metadata": {
    "tags": []
   },
   "outputs": [
    {
     "name": "stdout",
     "output_type": "stream",
     "text": [
      "[5, 3, 55, 7]\n"
     ]
    }
   ],
   "source": [
    "#method no. 2\n",
    "lis = [5,4,3,6,5,7,55,21,3,55,7]\n",
    " \n",
    "uniqueList = []\n",
    "duplicateList = []\n",
    " \n",
    "for i in lis:\n",
    "    if i not in uniqueList:\n",
    "        uniqueList.append(i)\n",
    "    elif i not in duplicateList:\n",
    "        duplicateList.append(i)\n",
    "print(duplicateList)"
   ]
  },
  {
   "cell_type": "markdown",
   "id": "ad79d927-f3ab-461c-919a-95d27758b1ec",
   "metadata": {
    "tags": []
   },
   "source": [
    "12. Create a program that prints the prime numbers in a given range using a `for` loop."
   ]
  },
  {
   "cell_type": "code",
   "execution_count": 12,
   "id": "ce3492ec-3586-47fe-83bd-505f9323a0cf",
   "metadata": {},
   "outputs": [
    {
     "name": "stdout",
     "output_type": "stream",
     "text": [
      "Prime numbers between 900 and 1000 are:\n",
      "907\n",
      "911\n",
      "919\n",
      "929\n",
      "937\n",
      "941\n",
      "947\n",
      "953\n",
      "967\n",
      "971\n",
      "977\n",
      "983\n",
      "991\n",
      "997\n"
     ]
    }
   ],
   "source": [
    "# Python program to display all the prime numbers within an interval\n",
    "\n",
    "lower = 900\n",
    "upper = 1000\n",
    "\n",
    "print(\"Prime numbers between\", lower, \"and\", upper, \"are:\")\n",
    "\n",
    "for num in range(lower, upper + 1):\n",
    "   # all prime numbers are greater than 1\n",
    "   if num > 1:\n",
    "        for i in range(2, num):\n",
    "            if (num % i) == 0:\n",
    "                break\n",
    "        else:\n",
    "            print(num)"
   ]
  },
  {
   "cell_type": "markdown",
   "id": "efb409c2-3061-44d8-9802-15b1783cbe58",
   "metadata": {},
   "source": [
    "13. Develop a program that counts the number of vowels in a string using a `for` loop."
   ]
  },
  {
   "cell_type": "code",
   "execution_count": 19,
   "id": "665c2f22-510d-4e5f-826e-cb88101150bc",
   "metadata": {},
   "outputs": [
    {
     "name": "stdout",
     "output_type": "stream",
     "text": [
      "Number of vowels in given sentence is: 15\n"
     ]
    }
   ],
   "source": [
    "string = \"My name is Simran and I am an ineuronian\"\n",
    "sentence = string.lower() #connverting the uppercase letters to  lowercase if any\n",
    "count = 0\n",
    "list1 = [\"a\",\"e\",\"i\",\"o\",\"u\"]\n",
    "for i in sentence:\n",
    "    if i in list1:\n",
    "        count = count + 1 #\n",
    "        \n",
    "print(\"Number of vowels in given sentence is:\", count)"
   ]
  },
  {
   "cell_type": "markdown",
   "id": "9c72ab4e-1a43-4e0e-b527-05c042453887",
   "metadata": {},
   "source": [
    "14. Write a program to find the maximum element in a 2D list using a nested `for` loop."
   ]
  },
  {
   "cell_type": "code",
   "execution_count": 12,
   "id": "b70015ca-f59f-442c-9428-5bc29193fd92",
   "metadata": {},
   "outputs": [
    {
     "name": "stdout",
     "output_type": "stream",
     "text": [
      "The maximum element in the 2D list is 9\n"
     ]
    }
   ],
   "source": [
    "# A list within another list is called 2-Dimensional (2D) list.\n",
    "list1 = [[1,2,3],\n",
    "        [4,5,6],\n",
    "        [7,8,9]]\n",
    "# The program to print the maximum element to in a 2D list using a nested `for` loop.\n",
    "maxInt = 0 \n",
    "# here comes the nested for loop which means loop within loop\n",
    "for row in list1:\n",
    "    for i in row:\n",
    "        if (i > maxInt):\n",
    "            maxInt = i\n",
    "print(\"The maximum element in the 2D list is\",(maxInt))"
   ]
  },
  {
   "cell_type": "markdown",
   "id": "3b240a77-0194-46a9-beff-967eaa8c6852",
   "metadata": {},
   "source": [
    "15. Create a program that removes all occurrences of a specific element from a list using a `for` loop."
   ]
  },
  {
   "cell_type": "code",
   "execution_count": 15,
   "id": "bd345d6e-db37-4b4f-bb66-ddd87b74f9d6",
   "metadata": {},
   "outputs": [
    {
     "name": "stdin",
     "output_type": "stream",
     "text": [
      "Enter the element to remove:  77\n"
     ]
    },
    {
     "name": "stdout",
     "output_type": "stream",
     "text": [
      "List after removing all occurrences of 77 : [1, 2, 3, 4, 5, 6]\n"
     ]
    }
   ],
   "source": [
    "# Given list\n",
    "my_list = [1,2,3,77,4,5,6]\n",
    "\n",
    "# Element to remove\n",
    "element_to_remove = int(input(\"Enter the element to remove: \"))\n",
    "\n",
    "# Use a for loop to remove all occurrences of the element\n",
    "# We iterate in reverse to avoid issues with shifting elements\n",
    "for i in range(len(my_list) - 1, -1, -1):\n",
    "    if my_list[i] == element_to_remove:\n",
    "        my_list.pop(i)\n",
    "\n",
    "# Print the list after removal\n",
    "print(\"List after removing all occurrences of\", element_to_remove, \":\", my_list)"
   ]
  },
  {
   "cell_type": "markdown",
   "id": "a53b8420-8c35-427c-87dc-0e6a92806224",
   "metadata": {},
   "source": [
    "16. Develop a program that generates a multiplication table for numbers from 1 to 5 using a nested `for` loop."
   ]
  },
  {
   "cell_type": "code",
   "execution_count": 16,
   "id": "42e5cd43-d203-492b-863f-c1989d556c5a",
   "metadata": {},
   "outputs": [
    {
     "name": "stdout",
     "output_type": "stream",
     "text": [
      "Multiplication table for 1:\n",
      "1 x 1 = 1\n",
      "1 x 2 = 2\n",
      "1 x 3 = 3\n",
      "1 x 4 = 4\n",
      "1 x 5 = 5\n",
      "1 x 6 = 6\n",
      "1 x 7 = 7\n",
      "1 x 8 = 8\n",
      "1 x 9 = 9\n",
      "1 x 10 = 10\n",
      "\n",
      "Multiplication table for 2:\n",
      "2 x 1 = 2\n",
      "2 x 2 = 4\n",
      "2 x 3 = 6\n",
      "2 x 4 = 8\n",
      "2 x 5 = 10\n",
      "2 x 6 = 12\n",
      "2 x 7 = 14\n",
      "2 x 8 = 16\n",
      "2 x 9 = 18\n",
      "2 x 10 = 20\n",
      "\n",
      "Multiplication table for 3:\n",
      "3 x 1 = 3\n",
      "3 x 2 = 6\n",
      "3 x 3 = 9\n",
      "3 x 4 = 12\n",
      "3 x 5 = 15\n",
      "3 x 6 = 18\n",
      "3 x 7 = 21\n",
      "3 x 8 = 24\n",
      "3 x 9 = 27\n",
      "3 x 10 = 30\n",
      "\n",
      "Multiplication table for 4:\n",
      "4 x 1 = 4\n",
      "4 x 2 = 8\n",
      "4 x 3 = 12\n",
      "4 x 4 = 16\n",
      "4 x 5 = 20\n",
      "4 x 6 = 24\n",
      "4 x 7 = 28\n",
      "4 x 8 = 32\n",
      "4 x 9 = 36\n",
      "4 x 10 = 40\n",
      "\n",
      "Multiplication table for 5:\n",
      "5 x 1 = 5\n",
      "5 x 2 = 10\n",
      "5 x 3 = 15\n",
      "5 x 4 = 20\n",
      "5 x 5 = 25\n",
      "5 x 6 = 30\n",
      "5 x 7 = 35\n",
      "5 x 8 = 40\n",
      "5 x 9 = 45\n",
      "5 x 10 = 50\n",
      "\n"
     ]
    }
   ],
   "source": [
    "# Define the range of numbers for the multiplication table\n",
    "start = 1\n",
    "end = 5\n",
    "\n",
    "# Nested for loop to generate the multiplication table\n",
    "for i in range(start, end + 1):\n",
    "    print(f\"Multiplication table for {i}:\")\n",
    "    for j in range(1, 11):\n",
    "        result = i * j\n",
    "        print(f\"{i} x {j} = {result}\")\n",
    "    print()  # Add a blank line to separate tables"
   ]
  },
  {
   "cell_type": "markdown",
   "id": "f0fe3809-e00f-4d34-b9e8-0a43afd3408f",
   "metadata": {},
   "source": [
    "17. Write a program that converts a list of Fahrenheit temperatures to Celsius using a `for` loop."
   ]
  },
  {
   "cell_type": "code",
   "execution_count": 1,
   "id": "06fad6ff-3895-4b70-9762-13efea7d1a5b",
   "metadata": {},
   "outputs": [
    {
     "name": "stdout",
     "output_type": "stream",
     "text": [
      "98.6°F = 37.00°C\n",
      "68°F = 20.00°C\n",
      "32°F = 0.00°C\n",
      "212°F = 100.00°C\n"
     ]
    }
   ],
   "source": [
    "def fahrenheit_to_celsius(fahrenheit):\n",
    "    return (fahrenheit - 32) * 5/9\n",
    "\n",
    "def convert_temperatures(fahrenheit_temperatures):\n",
    "    celsius_temperatures = []\n",
    "    for temp in fahrenheit_temperatures:\n",
    "        celsius_temperatures.append(fahrenheit_to_celsius(temp))\n",
    "    return celsius_temperatures\n",
    "\n",
    "# Example usage:\n",
    "fahrenheit_temperatures = [98.6, 68, 32, 212]\n",
    "celsius_temperatures = convert_temperatures(fahrenheit_temperatures)\n",
    "\n",
    "for f, c in zip(fahrenheit_temperatures, celsius_temperatures):\n",
    "    print(f\"{f}°F = {c:.2f}°C\")"
   ]
  },
  {
   "cell_type": "markdown",
   "id": "2e510666-6df7-4d64-8ddc-088e56b67b4f",
   "metadata": {},
   "source": [
    "18. Create a program to print the common elements from two lists using a `for` loop."
   ]
  },
  {
   "cell_type": "code",
   "execution_count": 2,
   "id": "00ce4395-722d-4286-8cd1-3ad327a740e5",
   "metadata": {},
   "outputs": [
    {
     "name": "stdout",
     "output_type": "stream",
     "text": [
      "Common elements between list1 and list2:\n",
      "3\n",
      "4\n",
      "5\n"
     ]
    }
   ],
   "source": [
    "# Two sample lists\n",
    "list1 = [1, 2, 3, 4, 5]\n",
    "list2 = [3, 4, 5, 6, 7]\n",
    "\n",
    "# Initialize a list to store common elements\n",
    "common_elements = []\n",
    "\n",
    "# Use a for loop to find and store common elements\n",
    "for item1 in list1:\n",
    "    for item2 in list2:\n",
    "        if item1 == item2:\n",
    "            common_elements.append(item1)\n",
    "\n",
    "# Print the common elements\n",
    "if common_elements:\n",
    "    print(\"Common elements between list1 and list2:\")\n",
    "    for element in common_elements:\n",
    "        print(element)\n",
    "else:\n",
    "    print(\"There are no common elements between list1 and list2.\")"
   ]
  },
  {
   "cell_type": "markdown",
   "id": "d6559add-4ca2-41c0-95b5-9094327ea154",
   "metadata": {},
   "source": [
    "19. Develop a program that prints the pattern of right-angled triangles using a `for` loop. Use ‘*’ to draw the\n",
    "pattern"
   ]
  },
  {
   "cell_type": "code",
   "execution_count": 3,
   "id": "b75a0a93-ccc5-4f90-89f8-913a22a6cdcf",
   "metadata": {},
   "outputs": [
    {
     "name": "stdout",
     "output_type": "stream",
     "text": [
      "* \n",
      "* * \n",
      "* * * \n",
      "* * * * \n",
      "* * * * * \n"
     ]
    }
   ],
   "source": [
    "# Define the number of rows for the pattern\n",
    "num_rows = 5\n",
    "\n",
    "# Use nested for loops to print the pattern\n",
    "for i in range(1, num_rows + 1):\n",
    "    for j in range(i):\n",
    "        print('*', end=' ')\n",
    "    print()  # Move to the next line after each row"
   ]
  },
  {
   "cell_type": "code",
   "execution_count": 4,
   "id": "71e788b8-8dcf-40fc-9d61-685b0f025b9a",
   "metadata": {},
   "outputs": [
    {
     "name": "stdout",
     "output_type": "stream",
     "text": [
      "* * * * * \n",
      "* * * * \n",
      "* * * \n",
      "* * \n",
      "* \n"
     ]
    }
   ],
   "source": [
    "n=5\n",
    "for i in range(5,0,-1):\n",
    "    for j in range(i):\n",
    "        print(\"*\",end=\" \")\n",
    "    print()"
   ]
  },
  {
   "cell_type": "markdown",
   "id": "61f09ed2-2a9c-40a7-84a3-6f12fa67081c",
   "metadata": {},
   "source": [
    "20. Write a program to find the greatest common divisor (GCD) of two numbers using a `for` loop."
   ]
  },
  {
   "cell_type": "code",
   "execution_count": 7,
   "id": "c39ba141-0a3b-4f59-b0d4-54df68002595",
   "metadata": {},
   "outputs": [
    {
     "name": "stdin",
     "output_type": "stream",
     "text": [
      "Enter the first number:  100\n",
      "Enter the second number:  60\n"
     ]
    },
    {
     "name": "stdout",
     "output_type": "stream",
     "text": [
      "The greatest common divisor (GCD) of 100 and 60 is 20\n"
     ]
    }
   ],
   "source": [
    "# Input two numbers\n",
    "num1 = int(input(\"Enter the first number: \"))\n",
    "num2 = int(input(\"Enter the second number: \"))\n",
    "\n",
    "# Find the minimum of the two numbers\n",
    "min_num = min(num1, num2)\n",
    "\n",
    "# Initialize the GCD variable to 1 (as 1 is always a common divisor)\n",
    "gcd = 1\n",
    "\n",
    "# Use a for loop to find the GCD\n",
    "for i in range(1, min_num + 1):\n",
    "    if num1 % i == 0 and num2 % i == 0:\n",
    "        gcd = i\n",
    "\n",
    "# Print the GCD\n",
    "print(f\"The greatest common divisor (GCD) of {num1} and {num2} is {gcd}\")"
   ]
  },
  {
   "cell_type": "markdown",
   "id": "34c93441-3e73-4d4a-af96-b13838e0a078",
   "metadata": {},
   "source": [
    "                     ~~~~~~ADVANCED LEVEL~~~~~~"
   ]
  },
  {
   "cell_type": "markdown",
   "id": "187a5c9a-dd2f-4dc5-925c-4b4e83ea8e4c",
   "metadata": {},
   "source": [
    "21. Create a program that calculates the sum of the digits of numbers in a list using a list comprehension."
   ]
  },
  {
   "cell_type": "code",
   "execution_count": 9,
   "id": "49efc943-a08d-4327-a01a-6935e4c3a5c0",
   "metadata": {},
   "outputs": [
    {
     "name": "stdout",
     "output_type": "stream",
     "text": [
      "Sum of digits for each number:\n",
      "Number: 123, Sum of digits: 6\n",
      "Number: 456, Sum of digits: 15\n",
      "Number: 789, Sum of digits: 24\n",
      "Number: 101, Sum of digits: 2\n"
     ]
    }
   ],
   "source": [
    "# Input list of numbers\n",
    "numbers = [123, 456, 789, 101]\n",
    "\n",
    "# Define a list comprehension to calculate the sum of digits for each number\n",
    "digit_sums = [sum(int(digit) for digit in str(number)) for number in numbers]\n",
    "\n",
    "# Print the list of digit sums\n",
    "print(\"Sum of digits for each number:\")\n",
    "for i in range(len(numbers)):\n",
    "    print(f\"Number: {numbers[i]}, Sum of digits: {digit_sums[i]}\")\n"
   ]
  },
  {
   "cell_type": "markdown",
   "id": "6db2be6f-3838-48a5-9959-f33ab8893d4e",
   "metadata": {},
   "source": [
    "22. Write a program to find the prime factors of a given number using a `for` loop and list comprehension."
   ]
  },
  {
   "cell_type": "code",
   "execution_count": 10,
   "id": "54075ce5-1363-41db-9102-ec3daeebd340",
   "metadata": {},
   "outputs": [
    {
     "name": "stdin",
     "output_type": "stream",
     "text": [
      "Enter a number:  56\n"
     ]
    },
    {
     "name": "stdout",
     "output_type": "stream",
     "text": [
      "The prime factors of 56 are: [2, 7]\n"
     ]
    }
   ],
   "source": [
    "# Input number\n",
    "num = int(input(\"Enter a number: \"))\n",
    "\n",
    "# Find prime factors using list comprehension and for loop\n",
    "prime_factors = [x for x in range(2, num + 1) if num % x == 0 and all(x % i != 0 for i in range(2, int(x**0.5) + 1))]\n",
    "\n",
    "# Print the prime factors\n",
    "if prime_factors:\n",
    "    print(f\"The prime factors of {num} are: {prime_factors}\")\n",
    "else:\n",
    "    print(f\"{num} has no prime factors other than 1 and itself.\")"
   ]
  },
  {
   "cell_type": "markdown",
   "id": "f7448f88-ced0-4da2-99ed-3ac89ac0aea8",
   "metadata": {},
   "source": [
    "23. Develop a program that extracts unique elements from a list and stores them in a new list using a list\n",
    "comprehension."
   ]
  },
  {
   "cell_type": "code",
   "execution_count": 11,
   "id": "62f23ea0-d8fd-40bd-ba21-2ea7adb95b7d",
   "metadata": {},
   "outputs": [
    {
     "name": "stdout",
     "output_type": "stream",
     "text": [
      "Original list: [1, 2, 2, 3, 4, 4, 5, 6, 6]\n",
      "List of unique elements: [1, 2, 3, 4, 5, 6]\n"
     ]
    }
   ],
   "source": [
    "# Input list with duplicates\n",
    "input_list = [1, 2, 2, 3, 4, 4, 5, 6, 6]\n",
    "\n",
    "# Use a list comprehension to extract unique elements\n",
    "unique_elements = [x for i, x in enumerate(input_list) if x not in input_list[:i]]\n",
    "\n",
    "# Print the list of unique elements\n",
    "print(\"Original list:\", input_list)\n",
    "print(\"List of unique elements:\", unique_elements)"
   ]
  },
  {
   "cell_type": "markdown",
   "id": "c4a1e6b5-7984-44f3-8800-7a8d035f28d7",
   "metadata": {},
   "source": [
    "24. Create a program that generates a list of all palindromic numbers up to a specified limit using a list\n",
    "comprehension."
   ]
  },
  {
   "cell_type": "code",
   "execution_count": 12,
   "id": "750656bf-8b1a-4cd8-9a44-60b0ccdee2f5",
   "metadata": {},
   "outputs": [
    {
     "name": "stdin",
     "output_type": "stream",
     "text": [
      "Enter the limit for palindromic numbers:  11\n"
     ]
    },
    {
     "name": "stdout",
     "output_type": "stream",
     "text": [
      "Palindromic numbers up to 11 are: [1, 2, 3, 4, 5, 6, 7, 8, 9, 11]\n"
     ]
    }
   ],
   "source": [
    "# Input limit for palindromic numbers\n",
    "limit = int(input(\"Enter the limit for palindromic numbers: \"))\n",
    "\n",
    "# Use a list comprehension to generate palindromic numbers\n",
    "palindromic_numbers = [num for num in range(1, limit + 1) if str(num) == str(num)[::-1]]\n",
    "\n",
    "# Print the list of palindromic numbers\n",
    "print(\"Palindromic numbers up to\", limit, \"are:\", palindromic_numbers)"
   ]
  },
  {
   "cell_type": "markdown",
   "id": "829a735d-d1a3-46c3-af73-14f99275b9d3",
   "metadata": {},
   "source": [
    "25. Write a program to flatten a nested list using list comprehension."
   ]
  },
  {
   "cell_type": "code",
   "execution_count": 13,
   "id": "dc5690c8-4cec-4429-a42e-46b351278653",
   "metadata": {},
   "outputs": [
    {
     "name": "stdout",
     "output_type": "stream",
     "text": [
      "Original nested list: [[1, 2, 3], [4, 5], [6, 7, 8]]\n",
      "Flattened list: [1, 2, 3, 4, 5, 6, 7, 8]\n"
     ]
    }
   ],
   "source": [
    "# Nested list\n",
    "nested_list = [[1, 2, 3], [4, 5], [6, 7, 8]]\n",
    "\n",
    "# Flatten the nested list using list comprehension\n",
    "flattened_list = [element for sublist in nested_list for element in sublist]\n",
    "\n",
    "# Print the flattened list\n",
    "print(\"Original nested list:\", nested_list)\n",
    "print(\"Flattened list:\", flattened_list)"
   ]
  },
  {
   "cell_type": "markdown",
   "id": "b8dfa118-2990-4f90-9274-711390ba9041",
   "metadata": {},
   "source": [
    "26. Develop a program that computes the sum of even and odd numbers in a list separately using list\n",
    "comprehension."
   ]
  },
  {
   "cell_type": "code",
   "execution_count": 15,
   "id": "02dfbfca-8952-4c0f-83a5-681a3f27a1ce",
   "metadata": {},
   "outputs": [
    {
     "name": "stdout",
     "output_type": "stream",
     "text": [
      "Original list: [1, 2, 3, 4, 5, 6, 7, 8, 9]\n",
      "Even numbers: [2, 4, 6, 8]\n",
      "Odd numbers: [1, 3, 5, 7, 9]\n",
      "Sum of even numbers: 20\n",
      "Sum of odd numbers: 25\n"
     ]
    }
   ],
   "source": [
    "# Input list of numbers\n",
    "numbers = [1, 2, 3, 4, 5, 6, 7, 8, 9]\n",
    "\n",
    "# Use list comprehension to separate even and odd numbers\n",
    "even_numbers = [x for x in numbers if x % 2 == 0]\n",
    "odd_numbers = [x for x in numbers if x % 2 != 0]\n",
    "\n",
    "# Calculate the sum of even and odd numbers using the built-in sum function\n",
    "sum_even = sum(even_numbers)\n",
    "sum_odd = sum(odd_numbers)\n",
    "\n",
    "# Print the sums\n",
    "print(\"Original list:\", numbers)\n",
    "print(\"Even numbers:\", even_numbers)\n",
    "print(\"Odd numbers:\", odd_numbers)\n",
    "print(\"Sum of even numbers:\", sum_even)\n",
    "print(\"Sum of odd numbers:\", sum_odd)"
   ]
  },
  {
   "cell_type": "markdown",
   "id": "7f5eccd6-968b-4f55-8cb4-4afc44d48e6b",
   "metadata": {},
   "source": [
    "27. Create a program that generates a list of squares of odd numbers between 1 and 10 using list\n",
    "comprehension."
   ]
  },
  {
   "cell_type": "code",
   "execution_count": 16,
   "id": "84d472a9-f891-45af-a23a-265047d61caa",
   "metadata": {},
   "outputs": [
    {
     "name": "stdout",
     "output_type": "stream",
     "text": [
      "Squares of odd numbers between 1 and 10: [1, 9, 25, 49, 81]\n"
     ]
    }
   ],
   "source": [
    "# Use list comprehension to generate squares of odd numbers between 1 and 10\n",
    "squares_of_odd_numbers = [x ** 2 for x in range(1, 11) if x % 2 != 0]\n",
    "\n",
    "# Print the list of squares\n",
    "print(\"Squares of odd numbers between 1 and 10:\", squares_of_odd_numbers)"
   ]
  },
  {
   "cell_type": "markdown",
   "id": "d0976d2e-5846-46b3-936c-cc086951efef",
   "metadata": {},
   "source": [
    "28. Write a program that combines two lists into a dictionary using list comprehension."
   ]
  },
  {
   "cell_type": "code",
   "execution_count": 17,
   "id": "8cca5d2e-c4be-43b7-9b76-2f022c30964b",
   "metadata": {},
   "outputs": [
    {
     "name": "stdout",
     "output_type": "stream",
     "text": [
      "Combined dictionary: {'a': 1, 'b': 2, 'c': 3}\n"
     ]
    }
   ],
   "source": [
    "# Two lists of keys and values\n",
    "keys = ['a', 'b', 'c']\n",
    "values = [1, 2, 3]\n",
    "\n",
    "# Combine the two lists into a dictionary using list comprehension\n",
    "combined_dict = {key: value for key, value in zip(keys, values)}\n",
    "\n",
    "# Print the resulting dictionary\n",
    "print(\"Combined dictionary:\", combined_dict)"
   ]
  },
  {
   "cell_type": "markdown",
   "id": "3f9194df-52c2-4788-8a5e-db4126a22ba2",
   "metadata": {},
   "source": [
    "29. Develop a program that extracts the vowels from a string and stores them in a list using list comprehension."
   ]
  },
  {
   "cell_type": "code",
   "execution_count": 18,
   "id": "685f6721-abbe-45bd-b23f-4ade52522418",
   "metadata": {},
   "outputs": [
    {
     "name": "stdin",
     "output_type": "stream",
     "text": [
      "Enter a string:  I am an ineuronian\n"
     ]
    },
    {
     "name": "stdout",
     "output_type": "stream",
     "text": [
      "Vowels in the string: ['i', 'a', 'a', 'i', 'e', 'u', 'o', 'i', 'a']\n"
     ]
    }
   ],
   "source": [
    "# Input string\n",
    "input_string = input(\"Enter a string: \")\n",
    "\n",
    "# Convert the input string to lowercase to handle both uppercase and lowercase vowels\n",
    "input_string = input_string.lower()\n",
    "\n",
    "# Use list comprehension to extract vowels\n",
    "vowels = [char for char in input_string if char in 'aeiou']\n",
    "\n",
    "# Print the list of vowels\n",
    "print(\"Vowels in the string:\", vowels)"
   ]
  },
  {
   "cell_type": "markdown",
   "id": "7c844ec9-adcc-45b0-9853-c5b9efb8457c",
   "metadata": {},
   "source": [
    "30. Create a program that removes all non-numeric characters from a list of strings using list comprehension."
   ]
  },
  {
   "cell_type": "code",
   "execution_count": 19,
   "id": "f1c273c2-2810-4e2c-89c9-81bd05376ebc",
   "metadata": {},
   "outputs": [
    {
     "name": "stdout",
     "output_type": "stream",
     "text": [
      "Original list of strings: ['abc123', 'xyz456', '123def', '789']\n",
      "List of numeric strings: ['123', '456', '123', '789']\n"
     ]
    }
   ],
   "source": [
    "# Input list of strings\n",
    "strings = [\"abc123\", \"xyz456\", \"123def\", \"789\"]\n",
    "\n",
    "# Use list comprehension to remove non-numeric characters\n",
    "numeric_strings = [''.join(char for char in string if char.isdigit()) for string in strings]\n",
    "\n",
    "# Print the list of strings with non-numeric characters removed\n",
    "print(\"Original list of strings:\", strings)\n",
    "print(\"List of numeric strings:\", numeric_strings)"
   ]
  },
  {
   "cell_type": "markdown",
   "id": "46b99788-a2ac-478c-9772-2be5a9c6d913",
   "metadata": {},
   "source": [
    "                        ~~~~~~CHALLENGING LEVEL~~~~~~"
   ]
  },
  {
   "cell_type": "markdown",
   "id": "9ed785db-64eb-4821-817f-c8d6899c5176",
   "metadata": {},
   "source": [
    "31. Write a program to generate a list of prime numbers using the Sieve of Eratosthenes algorithm and list\n",
    "comprehension."
   ]
  },
  {
   "cell_type": "code",
   "execution_count": 20,
   "id": "5ef49d2d-584a-4c44-bb44-c0c33db5213d",
   "metadata": {},
   "outputs": [
    {
     "name": "stdin",
     "output_type": "stream",
     "text": [
      "Enter the limit for generating prime numbers:  10\n"
     ]
    },
    {
     "name": "stdout",
     "output_type": "stream",
     "text": [
      "Prime numbers up to 10 are: [5, 7]\n"
     ]
    }
   ],
   "source": [
    "# Input limit for generating prime numbers\n",
    "limit = int(input(\"Enter the limit for generating prime numbers: \"))\n",
    "\n",
    "# Create a list to represent numbers from 2 to the limit\n",
    "numbers = [True] * (limit + 1)\n",
    "numbers[0] = numbers[1] = False\n",
    "\n",
    "# Use the Sieve of Eratosthenes algorithm to mark non-prime numbers\n",
    "for i in range(2, int(limit**0.5) + 1):\n",
    "    if numbers[i]:\n",
    "        for j in range(i**2, limit + 1, i):\n",
    "            numbers[j] = False\n",
    "\n",
    "# Generate a list of prime numbers using list comprehension\n",
    "prime_numbers = [i for i, is_prime in enumerate(numbers) if is_prime]\n",
    "\n",
    "# Remove 0 and 1 from the list of prime numbers\n",
    "prime_numbers = prime_numbers[2:]\n",
    "\n",
    "# Print the list of prime numbers\n",
    "print(\"Prime numbers up to\", limit, \"are:\", prime_numbers)"
   ]
  },
  {
   "cell_type": "markdown",
   "id": "f849e27d-7c27-4b06-b21a-75083d6c7122",
   "metadata": {},
   "source": [
    "32. Create a program that generates a list of all Pythagorean triplets up to a specified limit using list\n",
    "comprehension."
   ]
  },
  {
   "cell_type": "code",
   "execution_count": 21,
   "id": "ceb4c789-ffd9-4609-a1a4-90d0b243e592",
   "metadata": {},
   "outputs": [
    {
     "name": "stdin",
     "output_type": "stream",
     "text": [
      "Enter the limit for generating Pythagorean triplets:  10\n"
     ]
    },
    {
     "name": "stdout",
     "output_type": "stream",
     "text": [
      "Pythagorean triplets up to 10 are: [(3, 4, 5), (6, 8, 10)]\n"
     ]
    }
   ],
   "source": [
    "# Input limit for generating Pythagorean triplets\n",
    "limit = int(input(\"Enter the limit for generating Pythagorean triplets: \"))\n",
    "\n",
    "# Use list comprehension to generate Pythagorean triplets\n",
    "pythagorean_triplets = [(a, b, c) for a in range(1, limit + 1)\n",
    "                        for b in range(a, limit + 1)\n",
    "                        for c in range(b, limit + 1)\n",
    "                        if a**2 + b**2 == c**2]\n",
    "\n",
    "# Print the list of Pythagorean triplets\n",
    "print(\"Pythagorean triplets up to\", limit, \"are:\", pythagorean_triplets)"
   ]
  },
  {
   "cell_type": "markdown",
   "id": "a2a0a446-b930-4465-ba73-959037595123",
   "metadata": {},
   "source": [
    "33. Develop a program that generates a list of all possible combinations of two lists using list comprehension."
   ]
  },
  {
   "cell_type": "code",
   "execution_count": 22,
   "id": "ac9263ae-0950-4752-8cce-3fffcc3f25ef",
   "metadata": {},
   "outputs": [
    {
     "name": "stdout",
     "output_type": "stream",
     "text": [
      "All possible combinations of two lists:\n",
      "(1, 'a')\n",
      "(1, 'b')\n",
      "(2, 'a')\n",
      "(2, 'b')\n",
      "(3, 'a')\n",
      "(3, 'b')\n"
     ]
    }
   ],
   "source": [
    "# Input lists\n",
    "list1 = [1, 2, 3]\n",
    "list2 = ['a', 'b']\n",
    "\n",
    "# Use list comprehension to generate all possible combinations\n",
    "combinations = [(x, y) for x in list1 for y in list2]\n",
    "\n",
    "# Print the list of combinations\n",
    "print(\"All possible combinations of two lists:\")\n",
    "for combination in combinations:\n",
    "    print(combination)"
   ]
  },
  {
   "cell_type": "markdown",
   "id": "a5527100-4b59-4565-85dd-e9661244298b",
   "metadata": {},
   "source": [
    "34. Write a program that calculates the mean, median, and mode of a list of numbers using list\n",
    "comprehension."
   ]
  },
  {
   "cell_type": "code",
   "execution_count": 23,
   "id": "9129c065-3a22-4cd9-9d97-4997938f67d6",
   "metadata": {},
   "outputs": [
    {
     "name": "stdout",
     "output_type": "stream",
     "text": [
      "Mean: 4.4\n",
      "Median: 4.5\n",
      "Mode: [6]\n"
     ]
    }
   ],
   "source": [
    "from collections import Counter\n",
    "\n",
    "# Input list of numbers\n",
    "numbers = [1, 2, 3, 4, 4, 5, 6, 6, 6, 7]\n",
    "\n",
    "# Calculate the Mean using list comprehension\n",
    "mean = sum(numbers) / len(numbers)\n",
    "\n",
    "# Calculate the Median using list comprehension\n",
    "sorted_numbers = sorted(numbers)\n",
    "n = len(sorted_numbers)\n",
    "median = (sorted_numbers[n // 2] + sorted_numbers[(n - 1) // 2]) / 2\n",
    "\n",
    "# Calculate the Mode using list comprehension\n",
    "count_dict = Counter(numbers)\n",
    "max_count = max(count_dict.values())\n",
    "mode = [key for key, value in count_dict.items() if value == max_count]\n",
    "\n",
    "# Print the Mean, Median, and Mode\n",
    "print(\"Mean:\", mean)\n",
    "print(\"Median:\", median)\n",
    "print(\"Mode:\", mode)"
   ]
  },
  {
   "cell_type": "markdown",
   "id": "ca8106bf-fb9f-49be-a369-6e7931c42876",
   "metadata": {},
   "source": [
    "35. Create a program that generates Pascal's triangle up to a specified number of rows using list\n",
    "comprehension."
   ]
  },
  {
   "cell_type": "code",
   "execution_count": 25,
   "id": "2b7f68f4-08a2-4197-b014-edad8031b4e8",
   "metadata": {},
   "outputs": [
    {
     "name": "stdin",
     "output_type": "stream",
     "text": [
      "Enter the number of rows for Pascal's triangle:  5\n"
     ]
    },
    {
     "name": "stdout",
     "output_type": "stream",
     "text": [
      "Pascal's Triangle:\n",
      "[1]\n",
      "[1, 1]\n",
      "[1, 2, 1]\n",
      "[1, 3, 3, 1]\n",
      "[1, 4, 6, 4, 1]\n"
     ]
    }
   ],
   "source": [
    "def generate_pascals_triangle(num_rows):\n",
    "    if num_rows <= 0:\n",
    "        return []\n",
    "\n",
    "    # Initialize Pascal's triangle with the first row\n",
    "    triangle = [[1]]\n",
    "\n",
    "    # Generate the remaining rows of Pascal's triangle\n",
    "    for i in range(1, num_rows):\n",
    "        # Use list comprehension to calculate each row\n",
    "        row = [1] + [triangle[i - 1][j - 1] + triangle[i - 1][j] for j in range(1, i)] + [1]\n",
    "        triangle.append(row)\n",
    "\n",
    "    return triangle\n",
    "\n",
    "# Input the number of rows for Pascal's triangle\n",
    "num_rows = int(input(\"Enter the number of rows for Pascal's triangle: \"))\n",
    "\n",
    "# Generate Pascal's triangle\n",
    "pascals_triangle = generate_pascals_triangle(num_rows)\n",
    "\n",
    "# Print Pascal's triangle\n",
    "print(\"Pascal's Triangle:\")\n",
    "for row in pascals_triangle:\n",
    "    print(row)"
   ]
  },
  {
   "cell_type": "markdown",
   "id": "1aa2f548-5453-492c-a27b-9e4b5aad59f7",
   "metadata": {},
   "source": [
    "36. Develop a program that calculates the sum of the digits of a factorial of numbers from 1 to 5 using list\n",
    "comprehension."
   ]
  },
  {
   "cell_type": "code",
   "execution_count": 26,
   "id": "ad0cbcf7-4260-480b-891f-d688905d8e0d",
   "metadata": {},
   "outputs": [
    {
     "name": "stdout",
     "output_type": "stream",
     "text": [
      "Factorial of 1: 1\n",
      "Sum of digits: 1\n",
      "\n",
      "Factorial of 2: 2\n",
      "Sum of digits: 2\n",
      "\n",
      "Factorial of 3: 6\n",
      "Sum of digits: 6\n",
      "\n",
      "Factorial of 4: 24\n",
      "Sum of digits: 6\n",
      "\n",
      "Factorial of 5: 120\n",
      "Sum of digits: 3\n",
      "\n"
     ]
    }
   ],
   "source": [
    "# Function to calculate the factorial of a number\n",
    "def factorial(n):\n",
    "    if n == 0 or n == 1:\n",
    "        return 1\n",
    "    else:\n",
    "        return n * factorial(n - 1)\n",
    "\n",
    "# Calculate the factorials of numbers from 1 to 5 using list comprehension\n",
    "factorials = [factorial(i) for i in range(1, 6)]\n",
    "\n",
    "# Calculate the sum of digits of each factorial using list comprehension\n",
    "sum_of_digits = [sum(int(digit) for digit in str(factorial)) for factorial in factorials]\n",
    "\n",
    "# Print the results\n",
    "for i, factorial in enumerate(factorials, start=1):\n",
    "    print(f\"Factorial of {i}:\", factorial)\n",
    "    print(f\"Sum of digits:\", sum_of_digits[i - 1])\n",
    "    print()"
   ]
  },
  {
   "cell_type": "markdown",
   "id": "0464c339-e663-423f-9eb9-4993df049a36",
   "metadata": {},
   "source": [
    "37. Write a program that finds the longest word in a sentence using list comprehension."
   ]
  },
  {
   "cell_type": "code",
   "execution_count": 28,
   "id": "495580c4-440f-4166-8318-388fb21bb061",
   "metadata": {},
   "outputs": [
    {
     "name": "stdin",
     "output_type": "stream",
     "text": [
      "Enter a sentence:  hello pwskills\n"
     ]
    },
    {
     "name": "stdout",
     "output_type": "stream",
     "text": [
      "The longest word is: pwskills\n"
     ]
    }
   ],
   "source": [
    "# Input sentence\n",
    "sentence = input(\"Enter a sentence: \")\n",
    "\n",
    "# Split the sentence into words\n",
    "words = sentence.split()\n",
    "\n",
    "# Use list comprehension to find the longest word(s)\n",
    "longest_words = [word for word in words if len(word) == max(len(word) for word in words)]\n",
    "\n",
    "# Print the longest word(s)\n",
    "if longest_words:\n",
    "    if len(longest_words) == 1:\n",
    "        print(\"The longest word is:\", longest_words[0])\n",
    "    else:\n",
    "        print(\"The longest words are:\", ', '.join(longest_words))\n",
    "else:\n",
    "    print(\"No words found in the sentence.\")"
   ]
  },
  {
   "cell_type": "markdown",
   "id": "b815e78b-958f-46e2-b90d-a93bc014679d",
   "metadata": {},
   "source": [
    "38. Create a program that filters a list of strings to include only those with more than three vowels using list\n",
    "comprehension."
   ]
  },
  {
   "cell_type": "code",
   "execution_count": 29,
   "id": "2e94e384-d1d7-4fd1-a1d6-1c73442d7eb8",
   "metadata": {},
   "outputs": [
    {
     "name": "stdout",
     "output_type": "stream",
     "text": [
      "Original list of strings: ['hello', 'saicharan', 'python', 'programming', 'aardvark']\n",
      "Filtered list with more than three vowels: ['saicharan']\n"
     ]
    }
   ],
   "source": [
    "# Input list of strings\n",
    "strings = [\"hello\", \"saicharan\", \"python\", \"programming\", \"aardvark\"]\n",
    "\n",
    "# Function to count vowels in a string\n",
    "def count_vowels(string):\n",
    "    vowels = \"AEIOUaeiou\"\n",
    "    return sum(1 for char in string if char in vowels)\n",
    "\n",
    "# Use list comprehension to filter strings with more than three vowels\n",
    "filtered_strings = [string for string in strings if count_vowels(string) > 3]\n",
    "\n",
    "# Print the filtered list of strings\n",
    "print(\"Original list of strings:\", strings)\n",
    "print(\"Filtered list with more than three vowels:\", filtered_strings)"
   ]
  },
  {
   "cell_type": "markdown",
   "id": "6752dc8b-4fd3-44fa-8213-5174c57a8ef3",
   "metadata": {},
   "source": [
    "39. Develop a program that calculates the sum of the digits of numbers from 1 to 1000 using list\n",
    "comprehension."
   ]
  },
  {
   "cell_type": "code",
   "execution_count": 30,
   "id": "da2b2cf6-9427-4317-bff9-5a96b619225a",
   "metadata": {},
   "outputs": [
    {
     "name": "stdout",
     "output_type": "stream",
     "text": [
      "The sum of digits for numbers from 1 to 1000 is: 13501\n"
     ]
    }
   ],
   "source": [
    "# Use list comprehension to calculate the sum of digits for numbers from 1 to 1000\n",
    "sum_of_digits_list = [sum(int(digit) for digit in str(num)) for num in range(1, 1001)]\n",
    "\n",
    "# Calculate the total sum\n",
    "total_sum = sum(sum_of_digits_list)\n",
    "\n",
    "# Print the total sum\n",
    "print(\"The sum of digits for numbers from 1 to 1000 is:\", total_sum)"
   ]
  },
  {
   "cell_type": "markdown",
   "id": "608eb98e-d3d7-46d3-aba2-bd25cdeeb1e2",
   "metadata": {},
   "source": [
    "40. Write a program that generates a list of prime palindromic numbers using list comprehension."
   ]
  },
  {
   "cell_type": "code",
   "execution_count": 31,
   "id": "26b159ff-0b0f-4b18-b9c3-e901df433df8",
   "metadata": {},
   "outputs": [
    {
     "name": "stdout",
     "output_type": "stream",
     "text": [
      "Prime palindromic numbers from 1 to 1000: [2, 3, 5, 7, 11, 101, 131, 151, 181, 191, 313, 353, 373, 383, 727, 757, 787, 797, 919, 929]\n"
     ]
    }
   ],
   "source": [
    "# Function to check if a number is prime\n",
    "def is_prime(n):\n",
    "    if n <= 1:\n",
    "        return False\n",
    "    if n <= 3:\n",
    "        return True\n",
    "    if n % 2 == 0 or n % 3 == 0:\n",
    "        return False\n",
    "    i = 5\n",
    "    while i * i <= n:\n",
    "        if n % i == 0 or n % (i + 2) == 0:\n",
    "            return False\n",
    "        i += 6\n",
    "    return True\n",
    "\n",
    "# Use list comprehension to generate prime palindromic numbers\n",
    "prime_palindromic_numbers = [num for num in range(1, 1001) if str(num) == str(num)[::-1] and is_prime(num)]\n",
    "\n",
    "# Print the list of prime palindromic numbers\n",
    "print(\"Prime palindromic numbers from 1 to 1000:\", prime_palindromic_numbers)"
   ]
  }
 ],
 "metadata": {
  "kernelspec": {
   "display_name": "Python 3 (ipykernel)",
   "language": "python",
   "name": "python3"
  },
  "language_info": {
   "codemirror_mode": {
    "name": "ipython",
    "version": 3
   },
   "file_extension": ".py",
   "mimetype": "text/x-python",
   "name": "python",
   "nbconvert_exporter": "python",
   "pygments_lexer": "ipython3",
   "version": "3.10.8"
  }
 },
 "nbformat": 4,
 "nbformat_minor": 5
}
