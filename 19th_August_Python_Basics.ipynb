{
 "cells": [
  {
   "cell_type": "markdown",
   "id": "5a5106c2-1731-4b1a-9715-9df2614a3d63",
   "metadata": {},
   "source": [
    "TOPIC: Python Basics Variable"
   ]
  },
  {
   "cell_type": "code",
   "execution_count": 6,
   "id": "33f74a5b-402b-4ee8-b5ac-ecdfaf8eed69",
   "metadata": {
    "tags": []
   },
   "outputs": [],
   "source": [
    "#1. Declare two variables, `x` and `y`, and assign them integer values. \n",
    "#Swap the values of these variables without using any temporary variable."
   ]
  },
  {
   "cell_type": "code",
   "execution_count": 6,
   "id": "9e9e61be-c9a3-4518-a742-22de98ac04fe",
   "metadata": {},
   "outputs": [],
   "source": [
    "x,y = 10,20"
   ]
  },
  {
   "cell_type": "code",
   "execution_count": 4,
   "id": "297c85ef-82f6-4431-acb3-3fb7ab552f46",
   "metadata": {},
   "outputs": [
    {
     "data": {
      "text/plain": [
       "10"
      ]
     },
     "execution_count": 4,
     "metadata": {},
     "output_type": "execute_result"
    }
   ],
   "source": [
    "x"
   ]
  },
  {
   "cell_type": "code",
   "execution_count": 11,
   "id": "b9e8443b-a30e-463b-a784-18c01326f28d",
   "metadata": {},
   "outputs": [
    {
     "data": {
      "text/plain": [
       "10"
      ]
     },
     "execution_count": 11,
     "metadata": {},
     "output_type": "execute_result"
    }
   ],
   "source": [
    "y"
   ]
  },
  {
   "cell_type": "code",
   "execution_count": 20,
   "id": "939c44b0-6f67-40c8-8830-425f7e5905a8",
   "metadata": {
    "tags": []
   },
   "outputs": [],
   "source": [
    "x = x^y #we can also type it as x=x+y"
   ]
  },
  {
   "cell_type": "code",
   "execution_count": 21,
   "id": "6d3b0adf-9311-4f2f-a593-05069d7d5cef",
   "metadata": {},
   "outputs": [
    {
     "data": {
      "text/plain": [
       "30"
      ]
     },
     "execution_count": 21,
     "metadata": {},
     "output_type": "execute_result"
    }
   ],
   "source": [
    "x #now x becomes 30"
   ]
  },
  {
   "cell_type": "code",
   "execution_count": 26,
   "id": "a76eda66-ea8b-4c30-a122-934928adf3d2",
   "metadata": {},
   "outputs": [],
   "source": [
    "#now\n",
    "x = x^y"
   ]
  },
  {
   "cell_type": "code",
   "execution_count": 27,
   "id": "22b66767-e68d-4940-85f5-4bfcb6833ab7",
   "metadata": {},
   "outputs": [
    {
     "data": {
      "text/plain": [
       "20"
      ]
     },
     "execution_count": 27,
     "metadata": {},
     "output_type": "execute_result"
    }
   ],
   "source": [
    "x #the value of x '10' is now replaced with the value of y '20'"
   ]
  },
  {
   "cell_type": "code",
   "execution_count": 28,
   "id": "9d77957d-be08-4e2c-9453-bcb1fda9ee75",
   "metadata": {},
   "outputs": [],
   "source": [
    "#also\n",
    "y = y^x"
   ]
  },
  {
   "cell_type": "code",
   "execution_count": 29,
   "id": "9d4c7a00-f76a-477b-9113-40384e3b30c5",
   "metadata": {},
   "outputs": [
    {
     "data": {
      "text/plain": [
       "10"
      ]
     },
     "execution_count": 29,
     "metadata": {},
     "output_type": "execute_result"
    }
   ],
   "source": [
    "y #the value of y'20' is now replaced with the value of x'10'"
   ]
  },
  {
   "cell_type": "code",
   "execution_count": 30,
   "id": "263630e8-98ff-43f8-9036-3ed29e98788f",
   "metadata": {},
   "outputs": [],
   "source": [
    "#2. Create a program that calculates the area of a rectangle. Take the length and width as inputs from the user and store them in variables. Calculate and display the area."
   ]
  },
  {
   "cell_type": "code",
   "execution_count": 25,
   "id": "241f5706-7e9a-4a1f-b97b-7b7a57067016",
   "metadata": {},
   "outputs": [],
   "source": [
    "Length = 20"
   ]
  },
  {
   "cell_type": "code",
   "execution_count": 26,
   "id": "17f5d808-edc4-4955-a4a9-d3ae620fca24",
   "metadata": {},
   "outputs": [],
   "source": [
    "Width = 15"
   ]
  },
  {
   "cell_type": "code",
   "execution_count": 27,
   "id": "266dee68-50e6-4c2f-a084-bbc61c3c7ffd",
   "metadata": {},
   "outputs": [
    {
     "data": {
      "text/plain": [
       "20"
      ]
     },
     "execution_count": 27,
     "metadata": {},
     "output_type": "execute_result"
    }
   ],
   "source": [
    "Length"
   ]
  },
  {
   "cell_type": "code",
   "execution_count": 28,
   "id": "37b79293-98ff-4413-b652-3fa48ac8f585",
   "metadata": {},
   "outputs": [
    {
     "data": {
      "text/plain": [
       "15"
      ]
     },
     "execution_count": 28,
     "metadata": {},
     "output_type": "execute_result"
    }
   ],
   "source": [
    "Width"
   ]
  },
  {
   "cell_type": "code",
   "execution_count": 29,
   "id": "e6081256-e9ec-4130-9458-7bb848e23880",
   "metadata": {},
   "outputs": [],
   "source": [
    "#formula of area of rectangle\n",
    "Area = Length*Width"
   ]
  },
  {
   "cell_type": "code",
   "execution_count": 30,
   "id": "70b36c07-f292-46c9-b14a-01ea171ff431",
   "metadata": {},
   "outputs": [
    {
     "data": {
      "text/plain": [
       "300"
      ]
     },
     "execution_count": 30,
     "metadata": {},
     "output_type": "execute_result"
    }
   ],
   "source": [
    "Area"
   ]
  },
  {
   "cell_type": "code",
   "execution_count": 33,
   "id": "20b24887-ca75-40be-b10e-0efa6ddfa5f2",
   "metadata": {},
   "outputs": [
    {
     "name": "stdout",
     "output_type": "stream",
     "text": [
      "Area of rectangle= 300\n"
     ]
    }
   ],
   "source": [
    "print(\"Area of rectangle=\",Area)"
   ]
  },
  {
   "cell_type": "code",
   "execution_count": 2,
   "id": "a638abc1-7442-4071-a0b4-805ccfae751a",
   "metadata": {},
   "outputs": [],
   "source": [
    "#3. Write a Python program that converts temperatures from Celsius to Fahrenheit. Take the temperature in Celsius as input, store it in a variable, convert it to Fahrenheit, and display the result."
   ]
  },
  {
   "cell_type": "code",
   "execution_count": 14,
   "id": "6ec64724-1259-4b88-91fb-f7a2165d272c",
   "metadata": {},
   "outputs": [],
   "source": [
    "#let us take an ideal human body temperature as a value for the variable mentioned below\n",
    "Temperature_in_Celsius = 37"
   ]
  },
  {
   "cell_type": "code",
   "execution_count": 15,
   "id": "b29af1f9-f156-4b79-b943-4cf62c7a4e74",
   "metadata": {},
   "outputs": [
    {
     "data": {
      "text/plain": [
       "37"
      ]
     },
     "execution_count": 15,
     "metadata": {},
     "output_type": "execute_result"
    }
   ],
   "source": [
    "Temperature_in_Celsius"
   ]
  },
  {
   "cell_type": "code",
   "execution_count": 16,
   "id": "72dd2f7b-7a4d-4c04-bc91-0f9c5d2cafe1",
   "metadata": {},
   "outputs": [],
   "source": [
    "#formula to convert temperatures from Celcius to Fahrenheit is-\n",
    "Temperature_in_Fahrenheit = (Temperature_in_Celsius*1.8)+32"
   ]
  },
  {
   "cell_type": "code",
   "execution_count": 24,
   "id": "bbdce548-4c0b-4602-81c4-88291faea3cc",
   "metadata": {},
   "outputs": [
    {
     "name": "stdout",
     "output_type": "stream",
     "text": [
      "37 degree celsius = 98.60000000000001 degree Fahrenheit.\n"
     ]
    }
   ],
   "source": [
    "print(\"37 degree celsius =\",Temperature_in_Fahrenheit,\"degree Fahrenheit.\")"
   ]
  },
  {
   "cell_type": "code",
   "execution_count": 25,
   "id": "130f99ca-a10d-43d2-8cb3-cbd15e133a59",
   "metadata": {},
   "outputs": [],
   "source": [
    "#37 degree Celsius = 98.6 degree Fahrenheit"
   ]
  },
  {
   "cell_type": "markdown",
   "id": "b2784892-dd1c-491d-8886-e8a242dbec37",
   "metadata": {},
   "source": [
    "TOPIC: String Based Questions"
   ]
  },
  {
   "cell_type": "code",
   "execution_count": 26,
   "id": "b4730501-b817-4a8c-a86b-c3a2e9df39ec",
   "metadata": {},
   "outputs": [],
   "source": [
    "#1. Write a Python program that takes a string as input and prints the length of the string."
   ]
  },
  {
   "cell_type": "code",
   "execution_count": 2,
   "id": "f5a2996d-6dcb-46ce-bd92-03e5bf918f89",
   "metadata": {},
   "outputs": [],
   "source": [
    "#let's see with the help of an example-\n",
    "string = \"Simran\""
   ]
  },
  {
   "cell_type": "code",
   "execution_count": 3,
   "id": "9e89052e-e592-4494-9d25-9b0cb9aa17f7",
   "metadata": {},
   "outputs": [
    {
     "data": {
      "text/plain": [
       "'Simran'"
      ]
     },
     "execution_count": 3,
     "metadata": {},
     "output_type": "execute_result"
    }
   ],
   "source": [
    "string"
   ]
  },
  {
   "cell_type": "code",
   "execution_count": 9,
   "id": "fe8b068e-c340-499a-a2c5-dbcd2a53bcbd",
   "metadata": {},
   "outputs": [
    {
     "name": "stdout",
     "output_type": "stream",
     "text": [
      "Length of the string is 6\n"
     ]
    }
   ],
   "source": [
    "#Python program that takes a string as input and prints the length of the string is\n",
    "print(\"Length of the string is\",len(string)) "
   ]
  },
  {
   "cell_type": "code",
   "execution_count": 5,
   "id": "9bf5611c-adc0-4768-8ceb-ad9a64d8d34a",
   "metadata": {},
   "outputs": [],
   "source": [
    "#2. Create a program that takes a sentence from the user and counts the number of vowels (a, e, i, o, u) in the string."
   ]
  },
  {
   "cell_type": "code",
   "execution_count": 6,
   "id": "1161660b-5b29-46dd-9e0d-4f797a93114d",
   "metadata": {},
   "outputs": [
    {
     "name": "stdin",
     "output_type": "stream",
     "text": [
      " Welcome To PWskills\n"
     ]
    }
   ],
   "source": [
    "sentence = input()"
   ]
  },
  {
   "cell_type": "code",
   "execution_count": 7,
   "id": "275fa7e1-87c4-440a-9aa2-d3d90b913e67",
   "metadata": {},
   "outputs": [],
   "source": [
    "string = sentence.lower()"
   ]
  },
  {
   "cell_type": "code",
   "execution_count": 8,
   "id": "36cd31d8-7d4c-4858-bb13-9a5724ecdc2c",
   "metadata": {},
   "outputs": [
    {
     "data": {
      "text/plain": [
       "'welcome to pwskills'"
      ]
     },
     "execution_count": 8,
     "metadata": {},
     "output_type": "execute_result"
    }
   ],
   "source": [
    "string"
   ]
  },
  {
   "cell_type": "code",
   "execution_count": 9,
   "id": "1a590a64-1e92-410b-a701-f1b784f605da",
   "metadata": {},
   "outputs": [],
   "source": [
    "count = 0"
   ]
  },
  {
   "cell_type": "code",
   "execution_count": 10,
   "id": "4c0e1e7b-fd9a-4f66-8a6a-02842f90ac0b",
   "metadata": {},
   "outputs": [],
   "source": [
    "list = [\"a\",\"e\",\"i\",\"o\",\"u\"]"
   ]
  },
  {
   "cell_type": "code",
   "execution_count": 17,
   "id": "7b91f54c-f1ab-4460-a9bc-33d888ca9b00",
   "metadata": {},
   "outputs": [],
   "source": [
    "for char in string:\n",
    "    if char in list:\n",
    "        count = count+1"
   ]
  },
  {
   "cell_type": "code",
   "execution_count": 18,
   "id": "c58364e3-4f3c-4201-9153-b3a36b0b3c76",
   "metadata": {},
   "outputs": [
    {
     "name": "stdout",
     "output_type": "stream",
     "text": [
      "Number of vowels in given sentence is: 5\n"
     ]
    }
   ],
   "source": [
    "print(\"Number of vowels in given sentence is:\", count)"
   ]
  },
  {
   "cell_type": "code",
   "execution_count": 19,
   "id": "0edde283-b15f-4036-92a8-644c4efd2b37",
   "metadata": {},
   "outputs": [],
   "source": [
    "#3. Given a string, reverse the order of characters using string slicing and print the reversed string."
   ]
  },
  {
   "cell_type": "code",
   "execution_count": 1,
   "id": "e986ad03-1ce3-4005-b00f-a38ca1527f74",
   "metadata": {},
   "outputs": [],
   "source": [
    "string = \"pwskills\""
   ]
  },
  {
   "cell_type": "code",
   "execution_count": 2,
   "id": "c45991e1-ffea-4854-8777-df8620bc0f48",
   "metadata": {},
   "outputs": [
    {
     "data": {
      "text/plain": [
       "'pwskills'"
      ]
     },
     "execution_count": 2,
     "metadata": {},
     "output_type": "execute_result"
    }
   ],
   "source": [
    "string"
   ]
  },
  {
   "cell_type": "code",
   "execution_count": 3,
   "id": "540cc556-8512-4576-87de-c4fed52205d7",
   "metadata": {},
   "outputs": [
    {
     "data": {
      "text/plain": [
       "'sllikswp'"
      ]
     },
     "execution_count": 3,
     "metadata": {},
     "output_type": "execute_result"
    }
   ],
   "source": [
    "string[::-1]"
   ]
  },
  {
   "cell_type": "code",
   "execution_count": 6,
   "id": "e27d1500-97fd-4f70-9d61-53f136f752d8",
   "metadata": {},
   "outputs": [
    {
     "name": "stdout",
     "output_type": "stream",
     "text": [
      "the reversed order of characters in the given string is sllikswp\n"
     ]
    }
   ],
   "source": [
    "print(\"the reversed order of characters in the given string is\",string[::-1])"
   ]
  },
  {
   "cell_type": "code",
   "execution_count": 7,
   "id": "8d55326b-8e36-429d-8d29-115fcdc0b447",
   "metadata": {},
   "outputs": [],
   "source": [
    "#4. Write a program that takes a string as input and checks if it is a palindrome"
   ]
  },
  {
   "cell_type": "code",
   "execution_count": 59,
   "id": "798f08b9-953f-4330-a9a7-efcc153c6d83",
   "metadata": {},
   "outputs": [
    {
     "name": "stdin",
     "output_type": "stream",
     "text": [
      " malayalam\n"
     ]
    }
   ],
   "source": [
    "#palindrome is a word, phrase, or sequence that reads the same backwards as forwards, e.g. madam, malayalam\n",
    "#explanation with the help of an example\n",
    "s =input()"
   ]
  },
  {
   "cell_type": "code",
   "execution_count": 60,
   "id": "d6f11991-7fa4-40e4-94b2-4891fc4198c2",
   "metadata": {},
   "outputs": [
    {
     "data": {
      "text/plain": [
       "'malayalam'"
      ]
     },
     "execution_count": 60,
     "metadata": {},
     "output_type": "execute_result"
    }
   ],
   "source": [
    "s"
   ]
  },
  {
   "cell_type": "code",
   "execution_count": 61,
   "id": "d3cb2d65-086e-49f9-9410-d6ca695df58c",
   "metadata": {},
   "outputs": [],
   "source": [
    "rev= s[::-1]"
   ]
  },
  {
   "cell_type": "code",
   "execution_count": 62,
   "id": "0ce52411-a7c9-4b90-8994-9b7d8a9a1e39",
   "metadata": {},
   "outputs": [
    {
     "data": {
      "text/plain": [
       "'malayalam'"
      ]
     },
     "execution_count": 62,
     "metadata": {},
     "output_type": "execute_result"
    }
   ],
   "source": [
    "rev"
   ]
  },
  {
   "cell_type": "code",
   "execution_count": 66,
   "id": "6f6f4e7e-7973-4e9d-aac9-a846d5299a1c",
   "metadata": {},
   "outputs": [
    {
     "name": "stdout",
     "output_type": "stream",
     "text": [
      "Palindrome\n"
     ]
    }
   ],
   "source": [
    "if rev == s:\n",
    "    print(\"Palindrome\")\n",
    "else:\n",
    "    print(\"Not Palindrome\")"
   ]
  },
  {
   "cell_type": "code",
   "execution_count": 65,
   "id": "c16a5215-b216-4118-868c-864b5acd198b",
   "metadata": {},
   "outputs": [],
   "source": [
    "#5. Create a program that takes a string as input and removes all the spaces from it. Print the modified string without spaces."
   ]
  },
  {
   "cell_type": "code",
   "execution_count": 2,
   "id": "524e3d6f-dbeb-428c-9e4d-9c2267c9fd10",
   "metadata": {},
   "outputs": [],
   "source": [
    "str = \"Remove white spaces\"; "
   ]
  },
  {
   "cell_type": "code",
   "execution_count": 3,
   "id": "2b623e70-7eca-4309-a326-143b43b7198c",
   "metadata": {},
   "outputs": [
    {
     "data": {
      "text/plain": [
       "'Remove white spaces'"
      ]
     },
     "execution_count": 3,
     "metadata": {},
     "output_type": "execute_result"
    }
   ],
   "source": [
    "str"
   ]
  },
  {
   "cell_type": "code",
   "execution_count": 4,
   "id": "f77b6668-5146-4948-a076-1d818ecff1c3",
   "metadata": {},
   "outputs": [],
   "source": [
    "#Using in-built function in python  \n",
    "#Here, we are replacing space character with blank  \n",
    "str = str.replace(\" \",\"\");  "
   ]
  },
  {
   "cell_type": "code",
   "execution_count": 6,
   "id": "619f822c-1aa9-47e5-9689-c105caadd80f",
   "metadata": {},
   "outputs": [
    {
     "name": "stdout",
     "output_type": "stream",
     "text": [
      "String after removing all the white spaces : Removewhitespaces\n"
     ]
    }
   ],
   "source": [
    "print(\"String after removing all the white spaces : \" + str); "
   ]
  },
  {
   "cell_type": "code",
   "execution_count": null,
   "id": "943581c5-f965-4575-b97b-751af94e4665",
   "metadata": {},
   "outputs": [],
   "source": []
  }
 ],
 "metadata": {
  "kernelspec": {
   "display_name": "Python 3 (ipykernel)",
   "language": "python",
   "name": "python3"
  },
  "language_info": {
   "codemirror_mode": {
    "name": "ipython",
    "version": 3
   },
   "file_extension": ".py",
   "mimetype": "text/x-python",
   "name": "python",
   "nbconvert_exporter": "python",
   "pygments_lexer": "ipython3",
   "version": "3.10.8"
  }
 },
 "nbformat": 4,
 "nbformat_minor": 5
}
