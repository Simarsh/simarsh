{
 "cells": [
  {
   "cell_type": "markdown",
   "id": "4cfc4510-7775-46d2-b326-99237071040e",
   "metadata": {},
   "source": [
    "                                ~~~Arrays Assignment~~~"
   ]
  },
  {
   "cell_type": "markdown",
   "id": "a473f34c-e854-48ee-9443-4cd2b5471e3a",
   "metadata": {},
   "source": [
    "1. Given an array, check if it contains any duplicates or not.\n",
    "arr = [1, 2, 4, 2, 5, 9]"
   ]
  },
  {
   "cell_type": "code",
   "execution_count": 2,
   "id": "cbef1a34-b3ef-49b7-8701-390ab8e85200",
   "metadata": {},
   "outputs": [
    {
     "name": "stdout",
     "output_type": "stream",
     "text": [
      "True ; Here the duplicate number is 2\n"
     ]
    }
   ],
   "source": [
    "# One of the easiest way to check the any duplicates in a given array is by using set\n",
    "def duplicate(arr):\n",
    "    return len(arr) != len(set(arr))\n",
    "# Now as we know that set contains unique elements, we are converting a list into a set.\n",
    "# If length of the set will be different from length of list then the function returns 'True' else 'False' \n",
    "arr = [1,2,4,2,5,9]\n",
    "output = duplicate(arr)\n",
    "print(output,\"; Here the duplicate number is 2\")"
   ]
  },
  {
   "cell_type": "markdown",
   "id": "60927e1f-1270-4540-92e7-6542086e5ed8",
   "metadata": {},
   "source": [
    "2. Given an array and an integer k, rotate the array to the right by k steps.\n",
    "arr = [1, 2, 3, 4, 5, 6, 7] k = 3"
   ]
  },
  {
   "cell_type": "code",
   "execution_count": 10,
   "id": "3bf27551-13ae-46d9-bf1f-b5d1e1c70043",
   "metadata": {},
   "outputs": [
    {
     "name": "stdout",
     "output_type": "stream",
     "text": [
      "The rotated list is : [5, 6, 7, 1, 2, 3, 4]\n"
     ]
    }
   ],
   "source": [
    "def rotate_right(arr, k):\n",
    "    n = len(arr) # n is the length of the array\n",
    "    arr.reverse() # reverses the elements of the list arr in place\n",
    "    arr[:k] = reversed(arr[:k]) # Reverse the first k elements of array\n",
    "    arr[k:] = reversed(arr[k:]) # Reverse the remaining elements of the array\n",
    "    return arr\n",
    "# Driver's code - \n",
    "arr = [1, 2, 3, 4, 5, 6, 7] \n",
    "k = 3\n",
    "Output = rotate_right(arr, k)\n",
    "print(\"The rotated list is :\",Output)                                                "
   ]
  },
  {
   "cell_type": "markdown",
   "id": "daa61a16-6eba-4043-b0f1-2e021649877e",
   "metadata": {},
   "source": [
    "3. Reverse the given array in-place, means without using any extra data structure.\n",
    "arr = [2, 4, 5, 7, 9, 12]"
   ]
  },
  {
   "cell_type": "code",
   "execution_count": 14,
   "id": "9f1512d8-9b03-4469-a359-bbaed5189289",
   "metadata": {},
   "outputs": [
    {
     "name": "stdout",
     "output_type": "stream",
     "text": [
      "[12, 9, 7, 5, 4, 2]\n"
     ]
    }
   ],
   "source": [
    "def reverse_in_place(arr):\n",
    "    arr.reverse() #reversing the array\n",
    "    return arr\n",
    "# Driver's code -    \n",
    "arr = [2,4,5,7,9,12]\n",
    "result = reverse_in_place(arr)\n",
    "print(result)"
   ]
  },
  {
   "cell_type": "markdown",
   "id": "e5fa35e4-b28b-468f-8274-9764769d4e8f",
   "metadata": {},
   "source": [
    "4. Given an array of integers, find the maximum element in an array.\n",
    "arr = [10, 5, 20, 8, 15]"
   ]
  },
  {
   "cell_type": "code",
   "execution_count": 2,
   "id": "f42a0f81-84cc-4523-8966-de0cb52c885f",
   "metadata": {},
   "outputs": [
    {
     "name": "stdout",
     "output_type": "stream",
     "text": [
      "The maximum element in the given array is: 20\n"
     ]
    }
   ],
   "source": [
    "# The easiest and very time efficient code to find the maximum element is as follows- \n",
    "arr = [10, 5, 20, 8, 15]\n",
    "max_element = max(arr) # max ix a python key function to detect the largest element in a list\n",
    "print(\"The maximum element in the given array is:\",max_element)"
   ]
  },
  {
   "cell_type": "markdown",
   "id": "c2c772ed-421a-4767-ba31-ed5c37472479",
   "metadata": {},
   "source": [
    "5. Given a sorted array, remove the duplicate element without using any extra data structure.\n",
    "arr = [1, 1, 2, 2, 2, 3, 3, 4, 4, 4, 5, 5]"
   ]
  },
  {
   "cell_type": "code",
   "execution_count": 4,
   "id": "281016ec-464b-4062-ab8d-a923d7edb330",
   "metadata": {},
   "outputs": [
    {
     "name": "stdout",
     "output_type": "stream",
     "text": [
      "Updated Array: [1, 2, 3, 4, 5]\n"
     ]
    }
   ],
   "source": [
    "def remove_duplicates(arr):\n",
    "    if not arr:\n",
    "        return 0\n",
    "#The function remove_duplicates takes the sorted array 'arr' as input and modifies it in place to remove duplicates.\n",
    "#It uses a pointer (new_length) to keep track of the current position where a non-duplicate element should be placed.\n",
    "\n",
    "    new_length = 1\n",
    "# After running this code, arr will be modified to [1, 2, 3, 4, 5] and new_length will be 5 \n",
    "# Indicating the length of the updated array\n",
    "    for i in range(1, len(arr)):\n",
    "        if arr[i] != arr[i-1]:\n",
    "            arr[new_length] = arr[i]\n",
    "            new_length += 1\n",
    "\n",
    "    return new_length\n",
    "# Driver's code\n",
    "arr = [1, 1, 2, 2, 2, 3, 3, 4, 4, 4, 5, 5]\n",
    "new_length = remove_duplicates(arr)\n",
    "\n",
    "print(\"Updated Array:\", arr[:new_length])"
   ]
  }
 ],
 "metadata": {
  "kernelspec": {
   "display_name": "Python 3 (ipykernel)",
   "language": "python",
   "name": "python3"
  },
  "language_info": {
   "codemirror_mode": {
    "name": "ipython",
    "version": 3
   },
   "file_extension": ".py",
   "mimetype": "text/x-python",
   "name": "python",
   "nbconvert_exporter": "python",
   "pygments_lexer": "ipython3",
   "version": "3.10.8"
  }
 },
 "nbformat": 4,
 "nbformat_minor": 5
}
